#Python Notebook to read in dataset


import numpy as np
