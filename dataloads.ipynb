#Python Notebook to read in dataset

import tensorflow as tf
import numpy as np
